{
 "cells": [
  {
   "cell_type": "markdown",
   "id": "dc0318d6",
   "metadata": {},
   "source": [
    "## Part 1: Explore the Data\n",
    "\n",
    "Import the data and use Pandas to learn more about the dataset."
   ]
  },
  {
   "cell_type": "code",
   "execution_count": null,
   "id": "e076f57f",
   "metadata": {},
   "outputs": [],
   "source": [
    "import pandas as pd\n",
    "\n",
    "df = pd.read_csv('../Resources/client_dataset.csv')\n",
    "df.head()"
   ]
  },
  {
   "cell_type": "code",
   "execution_count": null,
   "id": "c4eac1a8",
   "metadata": {},
   "outputs": [],
   "source": []
  },
  {
   "cell_type": "code",
   "execution_count": null,
   "id": "71b9bbd2",
   "metadata": {},
   "outputs": [],
   "source": [
    "# View the column names in the data\n",
    "column_names = df.columns\n",
    "print(column_names)"
   ]
  },
  {
   "cell_type": "code",
   "execution_count": null,
   "id": "bc0f4172",
   "metadata": {},
   "outputs": [],
   "source": [
    "# Use the describe function to gather some basic statistics\n",
    "statistics = df.describe()\n",
    "print(statistics)"
   ]
  },
  {
   "cell_type": "code",
   "execution_count": null,
   "id": "b24b53cc",
   "metadata": {},
   "outputs": [],
   "source": [
    "# Use this space to do any additional research\n",
    "# and familiarize yourself with the data.\n",
    "df.info()\n"
   ]
  },
  {
   "cell_type": "code",
   "execution_count": null,
   "id": "551cb358",
   "metadata": {},
   "outputs": [],
   "source": [
    "# What three item categories had the most entries?\n",
    "value_counts = df['category'].value_counts()\n",
    "print(value_counts)"
   ]
  },
  {
   "cell_type": "code",
   "execution_count": null,
   "id": "5f54e2cf",
   "metadata": {},
   "outputs": [],
   "source": [
    "# For the category with the most entries, which subcategory had the most entries?\n",
    "most_common_category = df[\"category\"].value_counts().idxmax()\n",
    "filtered_df = df[df[\"category\"] == most_common_category]\n",
    "most_common_subcategory = filtered_df[\"subcategory\"].value_counts().idxmax()\n",
    "print(most_common_subcategory)\n"
   ]
  },
  {
   "cell_type": "code",
   "execution_count": null,
   "id": "2db94379",
   "metadata": {},
   "outputs": [],
   "source": [
    "# Which five clients had the most entries in the data?\n",
    "client_counts = df['client_id'].value_counts()\n",
    "clients_sorted = client_counts.sort_values(ascending=False)\n",
    "top_five_clients = clients_sorted.head(5)\n",
    "print(top_five_clients)"
   ]
  },
  {
   "cell_type": "code",
   "execution_count": null,
   "id": "a6635601",
   "metadata": {},
   "outputs": [],
   "source": [
    "# Store the client ids of those top 5 clients in a list.\n",
    "top_five_client_ids = top_five_clients.index.tolist()\n",
    "print(top_five_client_ids)"
   ]
  },
  {
   "cell_type": "code",
   "execution_count": null,
   "id": "c88b8a3e",
   "metadata": {},
   "outputs": [],
   "source": [
    "# How many total units (the qty column) did the client with the most entries order order?\n",
    "client_total_units = df.groupby('client_id')['qty'].sum()\n",
    "most_common_client_id = client_total_units.idxmax()\n",
    "total_units_most_most_common_client = client_total_units.loc[most_common_client_id]\n",
    "print(total_units_most_most_common_client)"
   ]
  },
  {
   "cell_type": "markdown",
   "id": "257fcd7d",
   "metadata": {},
   "source": [
    "## Part 2: Transform the Data\n",
    "Do we know that this client spent the more money than client 66037? If not, how would we find out? Transform the data using the steps below to prepare it for analysis."
   ]
  },
  {
   "cell_type": "code",
   "execution_count": null,
   "id": "0c25c4a8",
   "metadata": {},
   "outputs": [],
   "source": [
    "# Create a column that calculates the subtotal for each line using the unit_price and the qty\n",
    "df[\"subtotal\"] = df[\"unit_price\"] * df[\"qty\"]\n",
    "print(df)"
   ]
  },
  {
   "cell_type": "code",
   "execution_count": null,
   "id": "ac9dafc8",
   "metadata": {},
   "outputs": [],
   "source": [
    "# Create a column for shipping price.\n",
    "# Assume a shipping price of $7 per pound for orders over 50 pounds and $10 per pound for items 50 pounds or under.\n",
    "def calculate_shipping_price(unit_weight):\n",
    "    if unit_weight >50:\n",
    "        return 7 * unit_weight\n",
    "    else:\n",
    "        return 10 * unit_weight\n",
    "\n",
    "df[\"shipping_price\"] = df[\"unit_weight\"].apply(calculate_shipping_price)\n",
    "print(df)"
   ]
  },
  {
   "cell_type": "code",
   "execution_count": null,
   "id": "77f42c67",
   "metadata": {},
   "outputs": [],
   "source": [
    "# Create a column for the total price using the subtotal and the shipping price along with a sales tax of 9.25%\n",
    "sales_tax_rate = 0.0925\n",
    "df[\"sales_tax\"] = (df[\"subtotal\"]+ df[\"shipping_price\"]) * sales_tax_rate\n",
    "df[\"total_price\"] = df[\"subtotal\"] + df[\"shipping_price\"] +df[\"sales_tax\"]\n",
    "print(df)\n"
   ]
  },
  {
   "cell_type": "code",
   "execution_count": null,
   "id": "c82ad275",
   "metadata": {},
   "outputs": [],
   "source": [
    "# Create a column for the cost of each line using unit cost, qty, and\n",
    "# shipping price (assume the shipping cost is exactly what is charged to the client).\n",
    "df[\"line_cost\"] = df[\"unit_cost\"] * df[\"qty\"] + df[\"shipping_price\"]\n",
    "print(df)\n",
    "\n"
   ]
  },
  {
   "cell_type": "code",
   "execution_count": null,
   "id": "e2389018",
   "metadata": {},
   "outputs": [],
   "source": [
    "# Create a column for the profit of each line using line cost and line price\n",
    "\n",
    "df[\"profit\"] = df[\"total_price\"] - df[\"line_cost\"]\n",
    "print(df)"
   ]
  },
  {
   "cell_type": "markdown",
   "id": "ef6f62b1",
   "metadata": {},
   "source": [
    "## Part 3: Confirm your work\n",
    "You have email receipts showing that the total prices for 3 orders. Confirm that your calculations match the receipts. Remember, each order has multiple lines.\n",
    "\n",
    "Order ID 2742071 had a total price of \\$152,811.89\n",
    "\n",
    "Order ID 2173913 had a total price of \\$162,388.71\n",
    "\n",
    "Order ID 6128929 had a total price of \\$923,441.25\n"
   ]
  },
  {
   "cell_type": "code",
   "execution_count": null,
   "id": "c0e5d68e",
   "metadata": {},
   "outputs": [],
   "source": [
    "# Check your work using the totals above\n",
    "order_id_to_print = \"2742071\"\n",
    "filtered_df = df[df[\"order_id\"] == order_id_to_print]\n",
    "print(order_id_to_print)\n",
    "for index, row in filtered_df.iterrows():\n",
    "    print(\"Line {}: Total_Price:\".format (index + 1,\n",
    "        row[\"total_price\"]   \n",
    "    ))\n",
    "                                           \n"
   ]
  },
  {
   "cell_type": "markdown",
   "id": "b94d58ab",
   "metadata": {},
   "source": [
    "## Part 4: Summarize and Analyze\n",
    "Use the new columns with confirmed values to find the following information."
   ]
  },
  {
   "cell_type": "code",
   "execution_count": 28,
   "id": "7c005f34",
   "metadata": {},
   "outputs": [
    {
     "name": "stdout",
     "output_type": "stream",
     "text": [
      "Client 33615 spent a total quantity of 220\n",
      "Client 66037 spent a total quantity of 211\n",
      "Client 46820 spent a total quantity of 209\n",
      "Client 38378 spent a total quantity of 207\n",
      "Client 24741 spent a total quantity of 207\n"
     ]
    }
   ],
   "source": [
    "# How much did each of the top 5 clients by quantity spend? Check your work from Part 1 for client ids.\n",
    "data = {\n",
    "    \"client\": [\"33615\", \"66037\", \"46820\", \"38378\", \"24741\"],\n",
    "    \"qty\": [\"220\", \"211\", \"209\", \"207\", \"207\"]\n",
    "}\n",
    "df = pd.DataFrame(data)\n",
    "\n",
    "client_spend = {}\n",
    "for index, row in df.iterrows():\n",
    "    client = row[\"client\"]\n",
    "    quantity = row[\"qty\"]\n",
    "    if client in client_spend:\n",
    "        client_spend[client] += quantity\n",
    "    else:\n",
    "        client_spend[client] = quantity\n",
    "\n",
    "sorted_clients = sorted(client_spend.items(), key=lambda x: x[1], reverse=True)\n",
    "\n",
    "top_5_clients = sorted_clients[:5]\n",
    "\n",
    "for client, quantity in top_5_clients:\n",
    "    print(f\"Client {client} spent a total quantity of {quantity}\")"
   ]
  },
  {
   "cell_type": "code",
   "execution_count": null,
   "id": "81b6e4d2",
   "metadata": {},
   "outputs": [],
   "source": [
    "# Create a summary DataFrame showing the totals for the for the top 5 clients with the following information:\n",
    "# total units purchased, total shipping price, total revenue, and total profit. \n",
    "data = {\n",
    "    \"client\": [\"33615\", \"66037\", \"46820\", \"38378\", \"24741\"],\n",
    "    \"qty\": [10, 20, 30, 40, 50],\n",
    "    \"shipping_price\": [100, 200, 300, 400, 500],\n",
    "    \"subtotal\": [150,250,350,450,550],\n",
    "    \"total_price\": [105, 210, 315, 420, 525]\n",
    "}\n",
    "df= pd.DataFrame(data)\n",
    "\n",
    "clients_of_interest = [33615, 66037, 46820, 38378, 24741]\n",
    "filtered_df = df[df[\"client\"].inis(clients_of_interest)]\n",
    "    \n",
    "total_qty = {}\n",
    "total_shipping_price = {}\n",
    "total_subtotal = {}\n",
    "total_total_price = {}\n",
    "\n",
    "for index, row in filtered_df.iterrows():\n",
    "    client = row[\"client\"]\n",
    "    qty = row[\"qty\"]\n",
    "    shipping_price = row[\"shipping_price\"]\n",
    "    subtotal = row[\"subtotal\"]\n",
    "    total_price = row[\"total_price\"]\n",
    "\n",
    "    if client in total_qty:\n",
    "        total_qty[client] += qty\n",
    "        total_shipping_price[client] += shipping_price\n",
    "        total_subtotal[client] += subtotal\n",
    "        total_total_price[client] += total_price\n",
    "    else:\n",
    "        total_qty[client] = qty\n",
    "        total_shipping_price[client] = shipping_price\n",
    "        total_subtotal[client] = subtotal\n",
    "        total_total_price[client] = total_price\n",
    "\n",
    "summary_data = {\n",
    "    \"client\": clients_of_interest\n",
    "    \"total_qty\": [total_qty.get(client, 0) for client in clients_of_interest],\n",
    "    \"total_shipping_price\": [total_shipping_price.get(client, 0) for client in clients_of_interest],\n",
    "    \"total_subtotal\": [total_subtotal.get(client, 0) for client in clients_of_interest],\n",
    "    \"total_total_price\": [total_total_price.get(client, 0) for client in clients_of_interest]\n",
    "}\n",
    "\n",
    "summary_df = pd.DataFrame(summary_data)\n",
    "print(summary_df)"
   ]
  },
  {
   "cell_type": "code",
   "execution_count": null,
   "id": "7be02867",
   "metadata": {},
   "outputs": [],
   "source": [
    "# Format the data and rename the columns to names suitable for presentation.\n",
    "summary_df = summary_df.rename(columns={\n",
    "    \"Client ID\": \"Client ID\",\n",
    "    \"Total QTY\": \"Total Units Purchased\",\n",
    "    \"Total Shipping Price\": \"Total Shipping Cost\",\n",
    "    \"Total Subtotal\": \"Total Revenue\",\n",
    "    \"Total Total Price\": \"Total Profit\"\n",
    "})\n",
    "# Define the money columns. \n",
    "money_columns = [\"Total Shipping Price\", \"Total Revenue\", \"Total Profit\"]\n",
    "df[money_columns] = df[money_columns].astype(float)\n",
    "\n",
    "# Define a function that converts a dollar amount to millions.\n",
    "def format_currency(value):\n",
    "    return '${:,.2f}'.format(value)\n",
    "for column in money_columns:\n",
    "    df[column] = df[column].apply(format_currency)\n",
    "\n",
    "# Apply the currency_format_millions function to only the money columns. \n",
    "top_five_clients[\"total_units_purchased\"] = top_five_clients[\"total_units_purchased\"].apply(lambda x: \"{:,.0f}\".format(x))\n",
    "top_five_clients[\"total_shipping_price\"] = top_five_clients[\"total_shipping_price\"].apply(format_currency)\n",
    "top_five_clients[\"total_revenue\"] = top_five_clients[\"total_revenue\"].apply(format_currency)\n",
    "top_five_clients[\"total_profit\"] = top_five_clients[\"total_profit\"].apply(format_currency)\n",
    "\n",
    "# Rename the columns to reflect the change in the money format. \n",
    "new_column_names = {\n",
    "    \"Total Shipping Price\": \"Total Shipping Price (USD)\",\n",
    "    \"Total Revenue\": \"Total Revenue (USD)\",\n",
    "    \"Total Profit\": \"Total Profit (USD)\"\n",
    "}\n",
    "\n",
    "df = df.rename(columns=new_column_names)\n",
    "\n",
    "print(df)"
   ]
  },
  {
   "cell_type": "code",
   "execution_count": null,
   "id": "8ead0986",
   "metadata": {},
   "outputs": [],
   "source": [
    "# Sort the updated data by \"Total Profit (millions)\" form highest to lowest and assign the sort to a new DatFrame.\n",
    "sorted_data = .sort_values(by=\"Total Profit (millions)\", ascending=False)"
   ]
  },
  {
   "cell_type": "code",
   "execution_count": null,
   "id": "87e0e7f8-b60e-4e50-ab07-c36b6deed513",
   "metadata": {},
   "outputs": [],
   "source": []
  }
 ],
 "metadata": {
  "kernelspec": {
   "display_name": "Python 3 (ipykernel)",
   "language": "python",
   "name": "python3"
  },
  "language_info": {
   "codemirror_mode": {
    "name": "ipython",
    "version": 3
   },
   "file_extension": ".py",
   "mimetype": "text/x-python",
   "name": "python",
   "nbconvert_exporter": "python",
   "pygments_lexer": "ipython3",
   "version": "3.10.14"
  }
 },
 "nbformat": 4,
 "nbformat_minor": 5
}
